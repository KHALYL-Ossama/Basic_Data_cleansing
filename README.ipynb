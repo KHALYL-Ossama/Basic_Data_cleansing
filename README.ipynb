{
 "cells": [
  {
   "cell_type": "markdown",
   "metadata": {},
   "source": [
    "   This notebook provides a comprehensive guide to common data cleaning techniques using Python and pandas, addressing issues such as duplicates, missing values, outliers, and feature scaling."
   ]
  },
  {
   "cell_type": "markdown",
   "metadata": {},
   "source": [
    "## Introduction:\n",
    "\n",
    "Describes the importance of data cleaning in the context of real-world data used by data scientists.\n",
    "Lists the objectives of the notebook, which include \n",
    "using log functions to transform data, handling duplicates,\n",
    " managing missing values, standardizing and normalizing data, and handling outliers.\n",
    "\n",
    "\n",
    "\n"
   ]
  },
  {
   "cell_type": "markdown",
   "metadata": {},
   "source": [
    "## Setup:\n",
    "\n",
    "Imports necessary libraries such as pandas, numpy, seaborn, matplotlib, sklearn, and scipy.\n",
    "Uses warnings to ignore potential warning messages during execution."
   ]
  },
  {
   "cell_type": "markdown",
   "metadata": {},
   "source": [
    "## Reading and Understanding Data:\n",
    "\n",
    "Reads data from the 'Ames_Housing_Data1.tsv' file into a pandas DataFrame.\n",
    "Displays the first 10 rows using the head() method.\n",
    "Prints information about the DataFrame using the info() method."
   ]
  },
  {
   "cell_type": "markdown",
   "metadata": {},
   "source": [
    "## Looking for Correlations:\n",
    "\n",
    "Calculates Pearson correlation coefficients between numeric features and the 'SalePrice' target variable.\n",
    "Selects features with correlations greater than 0.5.\n",
    "Displays the strongly correlated features."
   ]
  },
  {
   "cell_type": "markdown",
   "metadata": {},
   "source": [
    "## Log Transformation:\n",
    "\n",
    "Visualizes the distribution of 'SalePrice' using seaborn's distplot.\n",
    "Calculates skewness of 'SalePrice' and applies log transformation to make it more normally distributed.\n",
    "Applies log transformation to the 'Lot Area' feature and checks skewness."
   ]
  },
  {
   "cell_type": "markdown",
   "metadata": {},
   "source": [
    "## Handling Duplicates:\n",
    "\n",
    "Identifies and removes duplicate rows based on the 'PID' column.\n",
    "Demonstrates an alternative way to check for duplicate indexes.\n",
    "Shows how to remove duplicates based on a specific column, e.g., 'Order'.\n",
    "\n",
    "## Handling Missing Values:\n",
    "\n",
    "Identifies and visualizes missing values using bar plots.\n",
    "Demonstrates methods to handle missing values: dropping rows, dropping columns, and filling with median values.\n",
    "Feature Scaling:\n",
    "\n",
    "Introduces the concept of feature scaling.\n",
    "Demonstrates normalization using MinMaxScaler and standardization using StandardScaler.\n",
    "\n",
    "## Handling Outliers:\n",
    "\n",
    "Shows the use of box plots and scatter plots to identify outliers.\n",
    "Demonstrates outlier removal based on visual inspection.\n",
    "Utilizes Z-score analysis to identify outliers.\n",
    "\n",
    "## Z-score Analysis:\n",
    "\n",
    "Explains Z-score and its role in identifying outliers.\n",
    "Calculates Z-scores for the 'Low Qual Fin SF' parameter."
   ]
  }
 ],
 "metadata": {
  "language_info": {
   "name": "python"
  }
 },
 "nbformat": 4,
 "nbformat_minor": 2
}
